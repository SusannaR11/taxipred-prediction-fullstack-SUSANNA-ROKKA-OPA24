{
 "cells": [
  {
   "cell_type": "markdown",
   "metadata": {},
   "source": [
    "## 3. Feature Engineering"
   ]
  },
  {
   "cell_type": "markdown",
   "metadata": {},
   "source": [
    "### Encoding categorical values into smart targets\n",
    "1. Time - rush-hour or not (IsRushHour 1/0)? weekend vs weekday\n",
    "2. Time - time of day (4 values) weighted differently\n",
    "3. Weather - binary/numeric (IsRain == 1/0, IsSnow == 1/0)\n",
    "4. Traffic - IsTraffic binary? EDA indicates Unknown/Medium traffic has real bearing on trip price"
   ]
  },
  {
   "cell_type": "code",
   "execution_count": 32,
   "metadata": {},
   "outputs": [],
   "source": [
    "import pandas as pd\n",
    "import matplotlib.pyplot as plt\n",
    "import seaborn as sns\n",
    "import numpy as np"
   ]
  },
  {
   "cell_type": "code",
   "execution_count": 33,
   "metadata": {},
   "outputs": [
    {
     "name": "stdout",
     "output_type": "stream",
     "text": [
      "<class 'pandas.core.frame.DataFrame'>\n",
      "RangeIndex: 875 entries, 0 to 874\n",
      "Data columns (total 11 columns):\n",
      " #   Column                 Non-Null Count  Dtype  \n",
      "---  ------                 --------------  -----  \n",
      " 0   Trip_Distance_km       875 non-null    float64\n",
      " 1   Time_of_Day            875 non-null    object \n",
      " 2   Day_of_Week            875 non-null    object \n",
      " 3   Passenger_Count        875 non-null    float64\n",
      " 4   Traffic_Conditions     875 non-null    object \n",
      " 5   Weather                875 non-null    object \n",
      " 6   Base_Fare              875 non-null    float64\n",
      " 7   Per_Km_Rate            875 non-null    float64\n",
      " 8   Per_Minute_Rate        875 non-null    float64\n",
      " 9   Trip_Duration_Minutes  875 non-null    float64\n",
      " 10  Trip_Price             875 non-null    float64\n",
      "dtypes: float64(7), object(4)\n",
      "memory usage: 75.3+ KB\n"
     ]
    }
   ],
   "source": [
    "df = pd.read_csv(\"df_filled.csv\")\n",
    "df.info()"
   ]
  },
  {
   "cell_type": "code",
   "execution_count": 34,
   "metadata": {},
   "outputs": [
    {
     "data": {
      "text/plain": [
       "Traffic_Conditions\n",
       "Low        344\n",
       "Medium     329\n",
       "High       156\n",
       "Unknown     46\n",
       "Name: count, dtype: int64"
      ]
     },
     "execution_count": 34,
     "metadata": {},
     "output_type": "execute_result"
    }
   ],
   "source": [
    "df[(\"Traffic_Conditions\")].value_counts()"
   ]
  },
  {
   "cell_type": "markdown",
   "metadata": {},
   "source": [
    "### Drill down into 'Unknown' values in categorical columns"
   ]
  },
  {
   "cell_type": "code",
   "execution_count": 35,
   "metadata": {},
   "outputs": [
    {
     "data": {
      "text/plain": [
       "Traffic_Conditions\n",
       "High       54.287284\n",
       "Low        52.239369\n",
       "Medium     51.161354\n",
       "Unknown    54.067491\n",
       "Name: Trip_Price, dtype: float64"
      ]
     },
     "execution_count": 35,
     "metadata": {},
     "output_type": "execute_result"
    }
   ],
   "source": [
    "# shows that 'unknown' is priced similar to 'high'\n",
    "mean_traffic_price = df.groupby(\"Traffic_Conditions\")[\"Trip_Price\"].mean()\n",
    "mean_traffic_price"
   ]
  },
  {
   "cell_type": "code",
   "execution_count": 36,
   "metadata": {},
   "outputs": [
    {
     "data": {
      "text/plain": [
       "Traffic_Conditions\n",
       "Low        344\n",
       "Medium     329\n",
       "High       156\n",
       "Unknown     46\n",
       "Name: count, dtype: int64"
      ]
     },
     "execution_count": 36,
     "metadata": {},
     "output_type": "execute_result"
    }
   ],
   "source": [
    "df[(\"Traffic_Conditions\")].value_counts()"
   ]
  },
  {
   "cell_type": "code",
   "execution_count": 37,
   "metadata": {},
   "outputs": [
    {
     "data": {
      "text/plain": [
       "Time_of_Day\n",
       "Afternoon    52.809558\n",
       "Evening      52.952252\n",
       "Morning      52.274430\n",
       "Night        51.039348\n",
       "Unknown      48.296307\n",
       "Name: Trip_Price, dtype: float64"
      ]
     },
     "execution_count": 37,
     "metadata": {},
     "output_type": "execute_result"
    }
   ],
   "source": [
    "mean_tod_price = df.groupby(\"Time_of_Day\")[\"Trip_Price\"].mean()\n",
    "mean_tod_price"
   ]
  },
  {
   "cell_type": "code",
   "execution_count": 38,
   "metadata": {},
   "outputs": [
    {
     "data": {
      "text/plain": [
       "Time_of_Day\n",
       "Afternoon    325\n",
       "Morning      242\n",
       "Evening      182\n",
       "Night         81\n",
       "Unknown       45\n",
       "Name: count, dtype: int64"
      ]
     },
     "execution_count": 38,
     "metadata": {},
     "output_type": "execute_result"
    }
   ],
   "source": [
    "df[(\"Time_of_Day\")].value_counts()"
   ]
  },
  {
   "cell_type": "code",
   "execution_count": 39,
   "metadata": {},
   "outputs": [
    {
     "data": {
      "text/plain": [
       "Day_of_Week\n",
       "Unknown    53.538713\n",
       "Weekday    52.746890\n",
       "Weekend    51.157111\n",
       "Name: Trip_Price, dtype: float64"
      ]
     },
     "execution_count": 39,
     "metadata": {},
     "output_type": "execute_result"
    }
   ],
   "source": [
    "mean_dow_price = df.groupby(\"Day_of_Week\")[\"Trip_Price\"].mean()\n",
    "mean_dow_price"
   ]
  },
  {
   "cell_type": "code",
   "execution_count": 40,
   "metadata": {},
   "outputs": [
    {
     "data": {
      "text/plain": [
       "Day_of_Week\n",
       "Weekday    568\n",
       "Weekend    268\n",
       "Unknown     39\n",
       "Name: count, dtype: int64"
      ]
     },
     "execution_count": 40,
     "metadata": {},
     "output_type": "execute_result"
    }
   ],
   "source": [
    "df[(\"Day_of_Week\")].value_counts()"
   ]
  },
  {
   "cell_type": "code",
   "execution_count": 41,
   "metadata": {},
   "outputs": [
    {
     "data": {
      "text/plain": [
       "Weather\n",
       "Clear      51.799166\n",
       "Rain       52.753097\n",
       "Snow       53.913840\n",
       "Unknown    55.027851\n",
       "Name: Trip_Price, dtype: float64"
      ]
     },
     "execution_count": 41,
     "metadata": {},
     "output_type": "execute_result"
    }
   ],
   "source": [
    "mean_weather_price = df.groupby(\"Weather\")[\"Trip_Price\"].mean()\n",
    "mean_weather_price"
   ]
  },
  {
   "cell_type": "code",
   "execution_count": 42,
   "metadata": {},
   "outputs": [
    {
     "data": {
      "text/plain": [
       "Weather\n",
       "Clear      581\n",
       "Rain       201\n",
       "Snow        52\n",
       "Unknown     41\n",
       "Name: count, dtype: int64"
      ]
     },
     "execution_count": 42,
     "metadata": {},
     "output_type": "execute_result"
    }
   ],
   "source": [
    "df[(\"Weather\")].value_counts()"
   ]
  },
  {
   "cell_type": "markdown",
   "metadata": {},
   "source": [
    "### Question is what to do with 'Unknown'. it represents ≈< 5% of each group which is v small. Then again, looking at where 'Unknown' clusters: it's on the highest fares."
   ]
  },
  {
   "cell_type": "markdown",
   "metadata": {},
   "source": [
    "### It's hard to know why there is missing data in categorical features. 'Unknown' might reflect irl gaps in logging (peak/busy/messy rides), driver failure to log or lack of training. Or it could be a proxy for something else that is not available as a category??"
   ]
  },
  {
   "cell_type": "markdown",
   "metadata": {},
   "source": [
    "### As a software company profit is business critical, so exploring 'Unknown' is valuable since it is involved in the highest fares. Which features in combination create the highest fare?"
   ]
  },
  {
   "cell_type": "code",
   "execution_count": 51,
   "metadata": {},
   "outputs": [
    {
     "data": {
      "text/html": [
       "<div>\n",
       "<style scoped>\n",
       "    .dataframe tbody tr th:only-of-type {\n",
       "        vertical-align: middle;\n",
       "    }\n",
       "\n",
       "    .dataframe tbody tr th {\n",
       "        vertical-align: top;\n",
       "    }\n",
       "\n",
       "    .dataframe thead th {\n",
       "        text-align: right;\n",
       "    }\n",
       "</style>\n",
       "<table border=\"1\" class=\"dataframe\">\n",
       "  <thead>\n",
       "    <tr style=\"text-align: right;\">\n",
       "      <th></th>\n",
       "      <th>Traffic_Conditions</th>\n",
       "      <th>Time_of_Day</th>\n",
       "      <th>Day_of_Week</th>\n",
       "      <th>Weather</th>\n",
       "      <th>Trip_Price</th>\n",
       "    </tr>\n",
       "  </thead>\n",
       "  <tbody>\n",
       "    <tr>\n",
       "      <th>127</th>\n",
       "      <td>Unknown</td>\n",
       "      <td>Unknown</td>\n",
       "      <td>Weekend</td>\n",
       "      <td>Rain</td>\n",
       "      <td>110.254400</td>\n",
       "    </tr>\n",
       "    <tr>\n",
       "      <th>119</th>\n",
       "      <td>Unknown</td>\n",
       "      <td>Evening</td>\n",
       "      <td>Weekend</td>\n",
       "      <td>Clear</td>\n",
       "      <td>102.001100</td>\n",
       "    </tr>\n",
       "    <tr>\n",
       "      <th>103</th>\n",
       "      <td>Medium</td>\n",
       "      <td>Night</td>\n",
       "      <td>Weekday</td>\n",
       "      <td>Unknown</td>\n",
       "      <td>98.379600</td>\n",
       "    </tr>\n",
       "    <tr>\n",
       "      <th>117</th>\n",
       "      <td>Unknown</td>\n",
       "      <td>Evening</td>\n",
       "      <td>Weekday</td>\n",
       "      <td>Clear</td>\n",
       "      <td>97.057300</td>\n",
       "    </tr>\n",
       "    <tr>\n",
       "      <th>90</th>\n",
       "      <td>Medium</td>\n",
       "      <td>Evening</td>\n",
       "      <td>Weekend</td>\n",
       "      <td>Unknown</td>\n",
       "      <td>96.284500</td>\n",
       "    </tr>\n",
       "    <tr>\n",
       "      <th>54</th>\n",
       "      <td>Low</td>\n",
       "      <td>Morning</td>\n",
       "      <td>Unknown</td>\n",
       "      <td>Unknown</td>\n",
       "      <td>90.512400</td>\n",
       "    </tr>\n",
       "    <tr>\n",
       "      <th>76</th>\n",
       "      <td>Medium</td>\n",
       "      <td>Afternoon</td>\n",
       "      <td>Weekday</td>\n",
       "      <td>Snow</td>\n",
       "      <td>79.292880</td>\n",
       "    </tr>\n",
       "    <tr>\n",
       "      <th>8</th>\n",
       "      <td>High</td>\n",
       "      <td>Evening</td>\n",
       "      <td>Unknown</td>\n",
       "      <td>Clear</td>\n",
       "      <td>78.194833</td>\n",
       "    </tr>\n",
       "    <tr>\n",
       "      <th>22</th>\n",
       "      <td>High</td>\n",
       "      <td>Morning</td>\n",
       "      <td>Weekend</td>\n",
       "      <td>Unknown</td>\n",
       "      <td>77.196300</td>\n",
       "    </tr>\n",
       "    <tr>\n",
       "      <th>21</th>\n",
       "      <td>High</td>\n",
       "      <td>Morning</td>\n",
       "      <td>Weekend</td>\n",
       "      <td>Clear</td>\n",
       "      <td>73.948575</td>\n",
       "    </tr>\n",
       "    <tr>\n",
       "      <th>17</th>\n",
       "      <td>High</td>\n",
       "      <td>Morning</td>\n",
       "      <td>Unknown</td>\n",
       "      <td>Unknown</td>\n",
       "      <td>73.554400</td>\n",
       "    </tr>\n",
       "    <tr>\n",
       "      <th>110</th>\n",
       "      <td>Medium</td>\n",
       "      <td>Unknown</td>\n",
       "      <td>Weekend</td>\n",
       "      <td>Rain</td>\n",
       "      <td>72.918800</td>\n",
       "    </tr>\n",
       "    <tr>\n",
       "      <th>122</th>\n",
       "      <td>Unknown</td>\n",
       "      <td>Morning</td>\n",
       "      <td>Weekday</td>\n",
       "      <td>Rain</td>\n",
       "      <td>70.734100</td>\n",
       "    </tr>\n",
       "    <tr>\n",
       "      <th>61</th>\n",
       "      <td>Low</td>\n",
       "      <td>Night</td>\n",
       "      <td>Unknown</td>\n",
       "      <td>Clear</td>\n",
       "      <td>69.626800</td>\n",
       "    </tr>\n",
       "    <tr>\n",
       "      <th>23</th>\n",
       "      <td>High</td>\n",
       "      <td>Night</td>\n",
       "      <td>Unknown</td>\n",
       "      <td>Snow</td>\n",
       "      <td>67.736000</td>\n",
       "    </tr>\n",
       "  </tbody>\n",
       "</table>\n",
       "</div>"
      ],
      "text/plain": [
       "    Traffic_Conditions Time_of_Day Day_of_Week  Weather  Trip_Price\n",
       "127            Unknown     Unknown     Weekend     Rain  110.254400\n",
       "119            Unknown     Evening     Weekend    Clear  102.001100\n",
       "103             Medium       Night     Weekday  Unknown   98.379600\n",
       "117            Unknown     Evening     Weekday    Clear   97.057300\n",
       "90              Medium     Evening     Weekend  Unknown   96.284500\n",
       "54                 Low     Morning     Unknown  Unknown   90.512400\n",
       "76              Medium   Afternoon     Weekday     Snow   79.292880\n",
       "8                 High     Evening     Unknown    Clear   78.194833\n",
       "22                High     Morning     Weekend  Unknown   77.196300\n",
       "21                High     Morning     Weekend    Clear   73.948575\n",
       "17                High     Morning     Unknown  Unknown   73.554400\n",
       "110             Medium     Unknown     Weekend     Rain   72.918800\n",
       "122            Unknown     Morning     Weekday     Rain   70.734100\n",
       "61                 Low       Night     Unknown    Clear   69.626800\n",
       "23                High       Night     Unknown     Snow   67.736000"
      ]
     },
     "execution_count": 51,
     "metadata": {},
     "output_type": "execute_result"
    }
   ],
   "source": [
    "rushhour = df.groupby([\"Traffic_Conditions\", \"Time_of_Day\", \"Day_of_Week\", \"Weather\"])[\"Trip_Price\"].mean().reset_index().sort_values(by=\"Trip_Price\", ascending=False)\n",
    "rushhour[:15]"
   ]
  },
  {
   "cell_type": "code",
   "execution_count": 44,
   "metadata": {},
   "outputs": [
    {
     "data": {
      "text/html": [
       "<div>\n",
       "<style scoped>\n",
       "    .dataframe tbody tr th:only-of-type {\n",
       "        vertical-align: middle;\n",
       "    }\n",
       "\n",
       "    .dataframe tbody tr th {\n",
       "        vertical-align: top;\n",
       "    }\n",
       "\n",
       "    .dataframe thead th {\n",
       "        text-align: right;\n",
       "    }\n",
       "</style>\n",
       "<table border=\"1\" class=\"dataframe\">\n",
       "  <thead>\n",
       "    <tr style=\"text-align: right;\">\n",
       "      <th></th>\n",
       "      <th>Trip_Distance_km</th>\n",
       "      <th>Time_of_Day</th>\n",
       "      <th>Day_of_Week</th>\n",
       "      <th>Passenger_Count</th>\n",
       "      <th>Traffic_Conditions</th>\n",
       "      <th>Weather</th>\n",
       "      <th>Base_Fare</th>\n",
       "      <th>Per_Km_Rate</th>\n",
       "      <th>Per_Minute_Rate</th>\n",
       "      <th>Trip_Duration_Minutes</th>\n",
       "      <th>Trip_Price</th>\n",
       "    </tr>\n",
       "  </thead>\n",
       "  <tbody>\n",
       "    <tr>\n",
       "      <th>0</th>\n",
       "      <td>19.35</td>\n",
       "      <td>Morning</td>\n",
       "      <td>Weekday</td>\n",
       "      <td>3.0</td>\n",
       "      <td>Low</td>\n",
       "      <td>Clear</td>\n",
       "      <td>3.56</td>\n",
       "      <td>0.800000</td>\n",
       "      <td>0.320000</td>\n",
       "      <td>53.82</td>\n",
       "      <td>36.2624</td>\n",
       "    </tr>\n",
       "    <tr>\n",
       "      <th>1</th>\n",
       "      <td>36.87</td>\n",
       "      <td>Evening</td>\n",
       "      <td>Weekend</td>\n",
       "      <td>1.0</td>\n",
       "      <td>High</td>\n",
       "      <td>Clear</td>\n",
       "      <td>2.70</td>\n",
       "      <td>1.210000</td>\n",
       "      <td>0.150000</td>\n",
       "      <td>37.27</td>\n",
       "      <td>52.9032</td>\n",
       "    </tr>\n",
       "    <tr>\n",
       "      <th>2</th>\n",
       "      <td>30.33</td>\n",
       "      <td>Evening</td>\n",
       "      <td>Weekday</td>\n",
       "      <td>4.0</td>\n",
       "      <td>Low</td>\n",
       "      <td>Unknown</td>\n",
       "      <td>3.48</td>\n",
       "      <td>0.510000</td>\n",
       "      <td>0.150000</td>\n",
       "      <td>116.81</td>\n",
       "      <td>36.4698</td>\n",
       "    </tr>\n",
       "    <tr>\n",
       "      <th>3</th>\n",
       "      <td>8.64</td>\n",
       "      <td>Afternoon</td>\n",
       "      <td>Weekend</td>\n",
       "      <td>2.0</td>\n",
       "      <td>Medium</td>\n",
       "      <td>Clear</td>\n",
       "      <td>2.55</td>\n",
       "      <td>1.710000</td>\n",
       "      <td>0.480000</td>\n",
       "      <td>89.33</td>\n",
       "      <td>60.2028</td>\n",
       "    </tr>\n",
       "    <tr>\n",
       "      <th>4</th>\n",
       "      <td>3.85</td>\n",
       "      <td>Afternoon</td>\n",
       "      <td>Weekday</td>\n",
       "      <td>4.0</td>\n",
       "      <td>High</td>\n",
       "      <td>Rain</td>\n",
       "      <td>3.51</td>\n",
       "      <td>1.660000</td>\n",
       "      <td>0.292647</td>\n",
       "      <td>5.05</td>\n",
       "      <td>11.2645</td>\n",
       "    </tr>\n",
       "    <tr>\n",
       "      <th>...</th>\n",
       "      <td>...</td>\n",
       "      <td>...</td>\n",
       "      <td>...</td>\n",
       "      <td>...</td>\n",
       "      <td>...</td>\n",
       "      <td>...</td>\n",
       "      <td>...</td>\n",
       "      <td>...</td>\n",
       "      <td>...</td>\n",
       "      <td>...</td>\n",
       "      <td>...</td>\n",
       "    </tr>\n",
       "    <tr>\n",
       "      <th>870</th>\n",
       "      <td>5.49</td>\n",
       "      <td>Afternoon</td>\n",
       "      <td>Weekend</td>\n",
       "      <td>4.0</td>\n",
       "      <td>Medium</td>\n",
       "      <td>Clear</td>\n",
       "      <td>2.39</td>\n",
       "      <td>0.620000</td>\n",
       "      <td>0.490000</td>\n",
       "      <td>58.39</td>\n",
       "      <td>34.4049</td>\n",
       "    </tr>\n",
       "    <tr>\n",
       "      <th>871</th>\n",
       "      <td>45.95</td>\n",
       "      <td>Night</td>\n",
       "      <td>Weekday</td>\n",
       "      <td>4.0</td>\n",
       "      <td>Medium</td>\n",
       "      <td>Clear</td>\n",
       "      <td>3.12</td>\n",
       "      <td>0.610000</td>\n",
       "      <td>0.292647</td>\n",
       "      <td>61.96</td>\n",
       "      <td>62.1295</td>\n",
       "    </tr>\n",
       "    <tr>\n",
       "      <th>872</th>\n",
       "      <td>7.70</td>\n",
       "      <td>Morning</td>\n",
       "      <td>Weekday</td>\n",
       "      <td>3.0</td>\n",
       "      <td>Low</td>\n",
       "      <td>Rain</td>\n",
       "      <td>2.08</td>\n",
       "      <td>1.780000</td>\n",
       "      <td>0.292647</td>\n",
       "      <td>54.18</td>\n",
       "      <td>33.1236</td>\n",
       "    </tr>\n",
       "    <tr>\n",
       "      <th>873</th>\n",
       "      <td>47.56</td>\n",
       "      <td>Morning</td>\n",
       "      <td>Weekday</td>\n",
       "      <td>1.0</td>\n",
       "      <td>Low</td>\n",
       "      <td>Clear</td>\n",
       "      <td>2.67</td>\n",
       "      <td>0.820000</td>\n",
       "      <td>0.170000</td>\n",
       "      <td>114.94</td>\n",
       "      <td>61.2090</td>\n",
       "    </tr>\n",
       "    <tr>\n",
       "      <th>874</th>\n",
       "      <td>22.85</td>\n",
       "      <td>Morning</td>\n",
       "      <td>Weekend</td>\n",
       "      <td>3.0</td>\n",
       "      <td>Medium</td>\n",
       "      <td>Clear</td>\n",
       "      <td>4.34</td>\n",
       "      <td>1.236359</td>\n",
       "      <td>0.230000</td>\n",
       "      <td>29.69</td>\n",
       "      <td>45.4437</td>\n",
       "    </tr>\n",
       "  </tbody>\n",
       "</table>\n",
       "<p>875 rows × 11 columns</p>\n",
       "</div>"
      ],
      "text/plain": [
       "     Trip_Distance_km Time_of_Day Day_of_Week  Passenger_Count  \\\n",
       "0               19.35     Morning     Weekday              3.0   \n",
       "1               36.87     Evening     Weekend              1.0   \n",
       "2               30.33     Evening     Weekday              4.0   \n",
       "3                8.64   Afternoon     Weekend              2.0   \n",
       "4                3.85   Afternoon     Weekday              4.0   \n",
       "..                ...         ...         ...              ...   \n",
       "870              5.49   Afternoon     Weekend              4.0   \n",
       "871             45.95       Night     Weekday              4.0   \n",
       "872              7.70     Morning     Weekday              3.0   \n",
       "873             47.56     Morning     Weekday              1.0   \n",
       "874             22.85     Morning     Weekend              3.0   \n",
       "\n",
       "    Traffic_Conditions  Weather  Base_Fare  Per_Km_Rate  Per_Minute_Rate  \\\n",
       "0                  Low    Clear       3.56     0.800000         0.320000   \n",
       "1                 High    Clear       2.70     1.210000         0.150000   \n",
       "2                  Low  Unknown       3.48     0.510000         0.150000   \n",
       "3               Medium    Clear       2.55     1.710000         0.480000   \n",
       "4                 High     Rain       3.51     1.660000         0.292647   \n",
       "..                 ...      ...        ...          ...              ...   \n",
       "870             Medium    Clear       2.39     0.620000         0.490000   \n",
       "871             Medium    Clear       3.12     0.610000         0.292647   \n",
       "872                Low     Rain       2.08     1.780000         0.292647   \n",
       "873                Low    Clear       2.67     0.820000         0.170000   \n",
       "874             Medium    Clear       4.34     1.236359         0.230000   \n",
       "\n",
       "     Trip_Duration_Minutes  Trip_Price  \n",
       "0                    53.82     36.2624  \n",
       "1                    37.27     52.9032  \n",
       "2                   116.81     36.4698  \n",
       "3                    89.33     60.2028  \n",
       "4                     5.05     11.2645  \n",
       "..                     ...         ...  \n",
       "870                  58.39     34.4049  \n",
       "871                  61.96     62.1295  \n",
       "872                  54.18     33.1236  \n",
       "873                 114.94     61.2090  \n",
       "874                  29.69     45.4437  \n",
       "\n",
       "[875 rows x 11 columns]"
      ]
     },
     "execution_count": 44,
     "metadata": {},
     "output_type": "execute_result"
    }
   ],
   "source": [
    "df"
   ]
  },
  {
   "cell_type": "code",
   "execution_count": 46,
   "metadata": {},
   "outputs": [],
   "source": [
    "# RushHour flag =\n",
    "# Weekday + (Morning or Evening) + High Traffic\n",
    "df[\"IsRushHour\"] = (\n",
    "    (df[\"Day_of_Week\"] == \"Weekday\") &\n",
    "    (df[\"Time_of_Day\"].isin([\"Morning\", \"Afternoon\"])) &\n",
    "    (df[\"Traffic_Conditions\"].isin([\"High\", \"Unknown\"]))\n",
    ").astype(int)\n"
   ]
  }
 ],
 "metadata": {
  "kernelspec": {
   "display_name": ".venv",
   "language": "python",
   "name": "python3"
  },
  "language_info": {
   "codemirror_mode": {
    "name": "ipython",
    "version": 3
   },
   "file_extension": ".py",
   "mimetype": "text/x-python",
   "name": "python",
   "nbconvert_exporter": "python",
   "pygments_lexer": "ipython3",
   "version": "3.12.9"
  }
 },
 "nbformat": 4,
 "nbformat_minor": 2
}
