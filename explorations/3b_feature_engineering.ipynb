{
 "cells": [
  {
   "cell_type": "markdown",
   "metadata": {},
   "source": [
    "## 3b, Feature Engineering\n",
    "- Dataset for 'integrate category 'Unknown'' into closest category"
   ]
  },
  {
   "cell_type": "code",
   "execution_count": 29,
   "metadata": {},
   "outputs": [],
   "source": [
    "import pandas as pd\n",
    "import matplotlib.pyplot as plt\n",
    "import seaborn as sns\n",
    "import numpy as np"
   ]
  },
  {
   "cell_type": "code",
   "execution_count": 30,
   "metadata": {},
   "outputs": [
    {
     "name": "stdout",
     "output_type": "stream",
     "text": [
      "<class 'pandas.core.frame.DataFrame'>\n",
      "RangeIndex: 875 entries, 0 to 874\n",
      "Data columns (total 11 columns):\n",
      " #   Column                 Non-Null Count  Dtype  \n",
      "---  ------                 --------------  -----  \n",
      " 0   Trip_Distance_km       875 non-null    float64\n",
      " 1   Time_of_Day            875 non-null    object \n",
      " 2   Day_of_Week            875 non-null    object \n",
      " 3   Passenger_Count        875 non-null    float64\n",
      " 4   Traffic_Conditions     875 non-null    object \n",
      " 5   Weather                875 non-null    object \n",
      " 6   Base_Fare              875 non-null    float64\n",
      " 7   Per_Km_Rate            875 non-null    float64\n",
      " 8   Per_Minute_Rate        875 non-null    float64\n",
      " 9   Trip_Duration_Minutes  875 non-null    float64\n",
      " 10  Trip_Price             875 non-null    float64\n",
      "dtypes: float64(7), object(4)\n",
      "memory usage: 75.3+ KB\n"
     ]
    }
   ],
   "source": [
    "df_integrate = pd.read_csv(\"df_filled.csv\")\n",
    "df_integrate.info()"
   ]
  },
  {
   "cell_type": "code",
   "execution_count": 31,
   "metadata": {},
   "outputs": [
    {
     "data": {
      "text/plain": [
       "Weather\n",
       "Clear      581\n",
       "Rain       201\n",
       "Snow        52\n",
       "Unknown     41\n",
       "Name: count, dtype: int64"
      ]
     },
     "execution_count": 31,
     "metadata": {},
     "output_type": "execute_result"
    }
   ],
   "source": [
    "df_integrate[\"Weather\"].value_counts()"
   ]
  },
  {
   "cell_type": "code",
   "execution_count": 32,
   "metadata": {},
   "outputs": [],
   "source": [
    "# 1. replace() -method to integrate 'Unknown':\n",
    "## merge unknown into closest manually by choosing the behaviour it resembles closest\n",
    "# in all 4 cat columns: weather, dow, tod and traffic:\n",
    "df_model_integrate_unknown = df_integrate.copy()\n",
    "\n",
    "# traffic - high\n",
    "df_model_integrate_unknown[\"Traffic_Conditions\"] = df_model_integrate_unknown[\"Traffic_Conditions\"].replace(\"Unknown\", \"High\")"
   ]
  },
  {
   "cell_type": "code",
   "execution_count": 33,
   "metadata": {},
   "outputs": [
    {
     "data": {
      "text/plain": [
       "Traffic_Conditions\n",
       "Low       344\n",
       "Medium    329\n",
       "High      202\n",
       "Name: count, dtype: int64"
      ]
     },
     "execution_count": 33,
     "metadata": {},
     "output_type": "execute_result"
    }
   ],
   "source": [
    "df_model_integrate_unknown[\"Traffic_Conditions\"].value_counts()"
   ]
  },
  {
   "cell_type": "code",
   "execution_count": 34,
   "metadata": {},
   "outputs": [],
   "source": [
    "# day_ow - night\n",
    "df_model_integrate_unknown[\"Time_of_Day\"] = df_model_integrate_unknown[\"Time_of_Day\"].replace(\"Unknown\", \"Night\")"
   ]
  },
  {
   "cell_type": "code",
   "execution_count": 35,
   "metadata": {},
   "outputs": [],
   "source": [
    "# week - weekday\n",
    "df_model_integrate_unknown[\"Day_of_Week\"]=df_model_integrate_unknown[\"Day_of_Week\"].replace(\"Unknown\", \"Weekday\")"
   ]
  },
  {
   "cell_type": "code",
   "execution_count": 36,
   "metadata": {},
   "outputs": [],
   "source": [
    "# weather - rain (i decided to add it to rain for ease)\n",
    "# make sure to do replace method first, THEN create smart feature\n",
    "df_model_integrate_unknown[\"Weather\"]=df_model_integrate_unknown[\"Weather\"].replace(\"Unknown\", \"Rain\")"
   ]
  },
  {
   "cell_type": "code",
   "execution_count": 37,
   "metadata": {},
   "outputs": [
    {
     "data": {
      "text/plain": [
       "Weather\n",
       "Clear    581\n",
       "Rain     242\n",
       "Snow      52\n",
       "Name: count, dtype: int64"
      ]
     },
     "execution_count": 37,
     "metadata": {},
     "output_type": "execute_result"
    }
   ],
   "source": [
    "# check that unknown is integrated - 201+41 = 242\n",
    "df_model_integrate_unknown[\"Weather\"].value_counts()"
   ]
  },
  {
   "cell_type": "code",
   "execution_count": 38,
   "metadata": {},
   "outputs": [
    {
     "name": "stdout",
     "output_type": "stream",
     "text": [
      "<class 'pandas.core.frame.DataFrame'>\n",
      "RangeIndex: 875 entries, 0 to 874\n",
      "Data columns (total 11 columns):\n",
      " #   Column                 Non-Null Count  Dtype  \n",
      "---  ------                 --------------  -----  \n",
      " 0   Trip_Distance_km       875 non-null    float64\n",
      " 1   Time_of_Day            875 non-null    object \n",
      " 2   Day_of_Week            875 non-null    object \n",
      " 3   Passenger_Count        875 non-null    float64\n",
      " 4   Traffic_Conditions     875 non-null    object \n",
      " 5   Weather                875 non-null    object \n",
      " 6   Base_Fare              875 non-null    float64\n",
      " 7   Per_Km_Rate            875 non-null    float64\n",
      " 8   Per_Minute_Rate        875 non-null    float64\n",
      " 9   Trip_Duration_Minutes  875 non-null    float64\n",
      " 10  Trip_Price             875 non-null    float64\n",
      "dtypes: float64(7), object(4)\n",
      "memory usage: 75.3+ KB\n"
     ]
    }
   ],
   "source": [
    "df_model_integrate_unknown.info()"
   ]
  },
  {
   "cell_type": "code",
   "execution_count": 42,
   "metadata": {},
   "outputs": [],
   "source": [
    "# add smart features, same as for df_model_keep_unknown\n",
    "# create IsBusinessHour first, BEFORE encoding ordinals, as its string-based\n",
    "#  IsBusinessHour:\n",
    "df_model_integrate_unknown[\"IsBusinessHour\"] = (\n",
    "    (df_model_integrate_unknown[\"Weather\"] == \"Clear\") &\n",
    "    (df_model_integrate_unknown[\"Day_of_Week\"] == \"Weekday\") &\n",
    "    (df_model_integrate_unknown[\"Time_of_Day\"].isin([\"Morning\", \"Afternoon\"])) & \n",
    "    (df_model_integrate_unknown[\"Traffic_Conditions\"].isin([\"Low\", \"Medium\", \"High\"]))\n",
    ").astype(int)"
   ]
  },
  {
   "cell_type": "code",
   "execution_count": 43,
   "metadata": {},
   "outputs": [],
   "source": [
    "# smart feature for weather Rainfall/snowfall. 'Clear' is implied. 'unknown' is already integrated into closest category 'Rain' above\n",
    "df_model_integrate_unknown[\"IsRain\"] = (df_model_integrate_unknown[\"Weather\"] == \"Rain\").astype(int)\n",
    "df_model_integrate_unknown[\"IsSnow\"] = (df_model_integrate_unknown[\"Weather\"] == \"Snow\").astype(int)"
   ]
  },
  {
   "cell_type": "code",
   "execution_count": 44,
   "metadata": {},
   "outputs": [],
   "source": [
    "# smart feature to flag weekend (IsWeekend = 1)\n",
    "df_model_integrate_unknown[\"IsWeekend\"] = (df_model_integrate_unknown[\"Day_of_Week\"] == \"Weekend\").astype(int)"
   ]
  },
  {
   "cell_type": "code",
   "execution_count": 45,
   "metadata": {},
   "outputs": [],
   "source": [
    "# encode ordinals in traffic_condition to prep dataset for model training\n",
    "df_model_integrate_unknown[\"Traffic_Conditions_Num\"] = pd.Categorical(\n",
    "    df_model_integrate_unknown[\"Traffic_Conditions\"],\n",
    "    categories=[\"Low\", \"Medium\", \"High\"],\n",
    "    ordered=True\n",
    ").codes"
   ]
  },
  {
   "cell_type": "code",
   "execution_count": 46,
   "metadata": {},
   "outputs": [],
   "source": [
    "# encode ordinals in time_of_day to prep dataset for model training\n",
    "df_model_integrate_unknown[\"Time_of_Day_Num\"] = pd.Categorical(\n",
    "    df_model_integrate_unknown[\"Time_of_Day\"],\n",
    "    categories=[\"Morning\", \"Afternoon\", \"Evening\", \"Night\"],\n",
    "    ordered=True\n",
    ").codes"
   ]
  },
  {
   "cell_type": "code",
   "execution_count": 47,
   "metadata": {},
   "outputs": [
    {
     "name": "stdout",
     "output_type": "stream",
     "text": [
      "<class 'pandas.core.frame.DataFrame'>\n",
      "RangeIndex: 875 entries, 0 to 874\n",
      "Data columns (total 17 columns):\n",
      " #   Column                  Non-Null Count  Dtype  \n",
      "---  ------                  --------------  -----  \n",
      " 0   Trip_Distance_km        875 non-null    float64\n",
      " 1   Time_of_Day             875 non-null    object \n",
      " 2   Day_of_Week             875 non-null    object \n",
      " 3   Passenger_Count         875 non-null    float64\n",
      " 4   Traffic_Conditions      875 non-null    object \n",
      " 5   Weather                 875 non-null    object \n",
      " 6   Base_Fare               875 non-null    float64\n",
      " 7   Per_Km_Rate             875 non-null    float64\n",
      " 8   Per_Minute_Rate         875 non-null    float64\n",
      " 9   Trip_Duration_Minutes   875 non-null    float64\n",
      " 10  Trip_Price              875 non-null    float64\n",
      " 11  IsBusinessHour          875 non-null    int64  \n",
      " 12  IsRain                  875 non-null    int64  \n",
      " 13  IsSnow                  875 non-null    int64  \n",
      " 14  IsWeekend               875 non-null    int64  \n",
      " 15  Traffic_Conditions_Num  875 non-null    int8   \n",
      " 16  Time_of_Day_Num         875 non-null    int8   \n",
      "dtypes: float64(7), int64(4), int8(2), object(4)\n",
      "memory usage: 104.4+ KB\n"
     ]
    }
   ],
   "source": [
    "df_model_integrate_unknown.info()"
   ]
  },
  {
   "cell_type": "code",
   "execution_count": 48,
   "metadata": {},
   "outputs": [],
   "source": [
    "df_model_integrate_unknown = df_model_integrate_unknown.drop(columns=[\"Time_of_Day\", \"Day_of_Week\", \"Traffic_Conditions\", \"Weather\"])"
   ]
  },
  {
   "cell_type": "code",
   "execution_count": 49,
   "metadata": {},
   "outputs": [
    {
     "name": "stdout",
     "output_type": "stream",
     "text": [
      "<class 'pandas.core.frame.DataFrame'>\n",
      "RangeIndex: 875 entries, 0 to 874\n",
      "Data columns (total 13 columns):\n",
      " #   Column                  Non-Null Count  Dtype  \n",
      "---  ------                  --------------  -----  \n",
      " 0   Trip_Distance_km        875 non-null    float64\n",
      " 1   Passenger_Count         875 non-null    float64\n",
      " 2   Base_Fare               875 non-null    float64\n",
      " 3   Per_Km_Rate             875 non-null    float64\n",
      " 4   Per_Minute_Rate         875 non-null    float64\n",
      " 5   Trip_Duration_Minutes   875 non-null    float64\n",
      " 6   Trip_Price              875 non-null    float64\n",
      " 7   IsBusinessHour          875 non-null    int64  \n",
      " 8   IsRain                  875 non-null    int64  \n",
      " 9   IsSnow                  875 non-null    int64  \n",
      " 10  IsWeekend               875 non-null    int64  \n",
      " 11  Traffic_Conditions_Num  875 non-null    int8   \n",
      " 12  Time_of_Day_Num         875 non-null    int8   \n",
      "dtypes: float64(7), int64(4), int8(2)\n",
      "memory usage: 77.0 KB\n"
     ]
    }
   ],
   "source": [
    "df_model_integrate_unknown.info()"
   ]
  },
  {
   "cell_type": "code",
   "execution_count": 26,
   "metadata": {},
   "outputs": [],
   "source": [
    "# export dataset to csv\n",
    "\n",
    "df_model_integrate_unknown.to_csv(\"df_model_integrate_unknown.csv\", index = False)"
   ]
  }
 ],
 "metadata": {
  "kernelspec": {
   "display_name": ".venv",
   "language": "python",
   "name": "python3"
  },
  "language_info": {
   "codemirror_mode": {
    "name": "ipython",
    "version": 3
   },
   "file_extension": ".py",
   "mimetype": "text/x-python",
   "name": "python",
   "nbconvert_exporter": "python",
   "pygments_lexer": "ipython3",
   "version": "3.12.9"
  }
 },
 "nbformat": 4,
 "nbformat_minor": 2
}
