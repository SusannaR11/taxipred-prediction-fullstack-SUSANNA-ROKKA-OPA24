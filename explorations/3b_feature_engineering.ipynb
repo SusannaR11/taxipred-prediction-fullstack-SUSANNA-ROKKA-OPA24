{
 "cells": [
  {
   "cell_type": "markdown",
   "metadata": {},
   "source": [
    "## 3b, Feature Engineering\n",
    "- Dataset for 'integrate category 'Unknown'' into closest category"
   ]
  },
  {
   "cell_type": "code",
   "execution_count": 1,
   "metadata": {},
   "outputs": [],
   "source": [
    "import pandas as pd\n",
    "import matplotlib.pyplot as plt\n",
    "import seaborn as sns\n",
    "import numpy as np"
   ]
  },
  {
   "cell_type": "code",
   "execution_count": 2,
   "metadata": {},
   "outputs": [
    {
     "name": "stdout",
     "output_type": "stream",
     "text": [
      "<class 'pandas.core.frame.DataFrame'>\n",
      "RangeIndex: 875 entries, 0 to 874\n",
      "Data columns (total 11 columns):\n",
      " #   Column                 Non-Null Count  Dtype  \n",
      "---  ------                 --------------  -----  \n",
      " 0   Trip_Distance_km       875 non-null    float64\n",
      " 1   Time_of_Day            875 non-null    object \n",
      " 2   Day_of_Week            875 non-null    object \n",
      " 3   Passenger_Count        875 non-null    float64\n",
      " 4   Traffic_Conditions     875 non-null    object \n",
      " 5   Weather                875 non-null    object \n",
      " 6   Base_Fare              875 non-null    float64\n",
      " 7   Per_Km_Rate            875 non-null    float64\n",
      " 8   Per_Minute_Rate        875 non-null    float64\n",
      " 9   Trip_Duration_Minutes  875 non-null    float64\n",
      " 10  Trip_Price             875 non-null    float64\n",
      "dtypes: float64(7), object(4)\n",
      "memory usage: 75.3+ KB\n"
     ]
    }
   ],
   "source": [
    "df_integrate = pd.read_csv(\"df_filled.csv\")\n",
    "df_integrate.info()"
   ]
  },
  {
   "cell_type": "code",
   "execution_count": 15,
   "metadata": {},
   "outputs": [
    {
     "data": {
      "text/plain": [
       "Weather\n",
       "Clear      581\n",
       "Rain       201\n",
       "Snow        52\n",
       "Unknown     41\n",
       "Name: count, dtype: int64"
      ]
     },
     "execution_count": 15,
     "metadata": {},
     "output_type": "execute_result"
    }
   ],
   "source": [
    "df_integrate[\"Weather\"].value_counts()"
   ]
  },
  {
   "cell_type": "code",
   "execution_count": 8,
   "metadata": {},
   "outputs": [],
   "source": [
    "# 1. replace() -method to integrate 'Unknown':\n",
    "## merge unknown into closest manually by choosing the behaviour it resembles closest\n",
    "# in all 4 cat columns: weather, dow, tod and traffic:\n",
    "df_model_integrate_unknown = df_integrate.copy()\n",
    "\n",
    "# traffic - high\n",
    "df_model_integrate_unknown[\"Traffic_Conditions\"] = df_model_integrate_unknown[\"Traffic_Conditions\"].replace(\"Unknown\", \"High\")"
   ]
  },
  {
   "cell_type": "code",
   "execution_count": 9,
   "metadata": {},
   "outputs": [
    {
     "data": {
      "text/plain": [
       "Traffic_Conditions\n",
       "Low       344\n",
       "Medium    329\n",
       "High      202\n",
       "Name: count, dtype: int64"
      ]
     },
     "execution_count": 9,
     "metadata": {},
     "output_type": "execute_result"
    }
   ],
   "source": [
    "df_model_integrate_unknown[\"Traffic_Conditions\"].value_counts()"
   ]
  },
  {
   "cell_type": "code",
   "execution_count": 10,
   "metadata": {},
   "outputs": [],
   "source": [
    "# day_ow - night\n",
    "df_model_integrate_unknown[\"Time_of_Day\"] = df_model_integrate_unknown[\"Time_of_Day\"].replace(\"Unknown\", \"Night\")"
   ]
  },
  {
   "cell_type": "code",
   "execution_count": 11,
   "metadata": {},
   "outputs": [],
   "source": [
    "# week - weekday\n",
    "df_model_integrate_unknown[\"Day_of_Week\"]=df_model_integrate_unknown[\"Day_of_Week\"].replace(\"Unknown\", \"Weekday\")"
   ]
  },
  {
   "cell_type": "code",
   "execution_count": 12,
   "metadata": {},
   "outputs": [],
   "source": [
    "# weather - rain (i decided to add it to rain for ease)\n",
    "# make sure to do replace method first, THEN create smart feature\n",
    "df_model_integrate_unknown[\"Weather\"]=df_model_integrate_unknown[\"Weather\"].replace(\"Unknown\", \"Rain\")"
   ]
  },
  {
   "cell_type": "code",
   "execution_count": 16,
   "metadata": {},
   "outputs": [
    {
     "data": {
      "text/plain": [
       "Weather\n",
       "Clear    581\n",
       "Rain     242\n",
       "Snow      52\n",
       "Name: count, dtype: int64"
      ]
     },
     "execution_count": 16,
     "metadata": {},
     "output_type": "execute_result"
    }
   ],
   "source": [
    "# check that unknown is integrated - 201+41 = 242\n",
    "df_model_integrate_unknown[\"Weather\"].value_counts()"
   ]
  },
  {
   "cell_type": "code",
   "execution_count": 14,
   "metadata": {},
   "outputs": [
    {
     "name": "stdout",
     "output_type": "stream",
     "text": [
      "<class 'pandas.core.frame.DataFrame'>\n",
      "RangeIndex: 875 entries, 0 to 874\n",
      "Data columns (total 11 columns):\n",
      " #   Column                 Non-Null Count  Dtype  \n",
      "---  ------                 --------------  -----  \n",
      " 0   Trip_Distance_km       875 non-null    float64\n",
      " 1   Time_of_Day            875 non-null    object \n",
      " 2   Day_of_Week            875 non-null    object \n",
      " 3   Passenger_Count        875 non-null    float64\n",
      " 4   Traffic_Conditions     875 non-null    object \n",
      " 5   Weather                875 non-null    object \n",
      " 6   Base_Fare              875 non-null    float64\n",
      " 7   Per_Km_Rate            875 non-null    float64\n",
      " 8   Per_Minute_Rate        875 non-null    float64\n",
      " 9   Trip_Duration_Minutes  875 non-null    float64\n",
      " 10  Trip_Price             875 non-null    float64\n",
      "dtypes: float64(7), object(4)\n",
      "memory usage: 75.3+ KB\n"
     ]
    }
   ],
   "source": [
    "df_model_integrate_unknown.info()"
   ]
  },
  {
   "cell_type": "code",
   "execution_count": 17,
   "metadata": {},
   "outputs": [],
   "source": [
    "# add smart features, same as for df_model_keep_unknown\n",
    "# IsBusinessHour:\n",
    "\n",
    "df_model_integrate_unknown[\"IsBusinessHour\"] = (\n",
    "    (df_model_integrate_unknown[\"Weather\"] == \"Clear\") &\n",
    "    (df_model_integrate_unknown[\"Day_of_Week\"] == \"Weekday\") &\n",
    "    (df_model_integrate_unknown[\"Time_of_Day\"].isin([\"Morning\", \"Afternoon\"])) & \n",
    "    (df_model_integrate_unknown[\"Traffic_Conditions\"].isin([\"Low\", \"Medium\"]))\n",
    ").astype(int)"
   ]
  },
  {
   "cell_type": "code",
   "execution_count": null,
   "metadata": {},
   "outputs": [],
   "source": [
    "# smart feature for weather Rainfall/snowfall. 'Clear' is implied. 'unknown' is its own category\n",
    "df[\"IsRain\"] = (df[\"Weather\"] == \"Rain\").astype(int)\n",
    "df[\"IsSnow\"] = (df[\"Weather\"] == \"Snow\").astype(int)\n",
    "df[\"IsWeatherUnknown\"] = (df[\"Weather\"] == \"Unknown\").astype(int)"
   ]
  },
  {
   "cell_type": "code",
   "execution_count": null,
   "metadata": {},
   "outputs": [],
   "source": [
    "# smart feature to flag weekend (IsWeekend = 1)\n",
    "df[\"IsWeekend\"] = (df[\"Day_of_Week\"] == \"Weekend\").astype(int)\n",
    "df[\"IsDayUnknown\"] = (df[\"Day_of_Week\"] == \"Unknown\").astype(int)"
   ]
  },
  {
   "cell_type": "code",
   "execution_count": null,
   "metadata": {},
   "outputs": [],
   "source": [
    "# encode ordinals in traffic_condition to prep dataset for model training\n",
    "df[\"Traffic_Conditions_Num\"] = pd.Categorical(\n",
    "    df[\"Traffic_Conditions\"],\n",
    "    categories=[\"Unknown\", \"Low\", \"Medium\", \"High\"],\n",
    "    ordered=True\n",
    ").codes"
   ]
  },
  {
   "cell_type": "code",
   "execution_count": null,
   "metadata": {},
   "outputs": [],
   "source": [
    "# encode ordinals in time_of_day to prep dataset for model training\n",
    "df[\"Time_of_Day_Num\"] = pd.Categorical(\n",
    "    df[\"Time_of_Day\"],\n",
    "    categories=[\"Unknown\", \"Morning\", \"Afternoon\", \"Evening\", \"Night\"],\n",
    "    ordered=True\n",
    ").codes"
   ]
  },
  {
   "cell_type": "code",
   "execution_count": null,
   "metadata": {},
   "outputs": [],
   "source": []
  },
  {
   "cell_type": "code",
   "execution_count": null,
   "metadata": {},
   "outputs": [],
   "source": [
    "df_model_integrate_unknown = df_model_integrate_unknown.drop(columns=[\"Time_of_Day\", \"Day_of_Week\", \"Traffic_Conditions\", \"Weather\"])"
   ]
  },
  {
   "cell_type": "code",
   "execution_count": null,
   "metadata": {},
   "outputs": [],
   "source": []
  },
  {
   "cell_type": "code",
   "execution_count": null,
   "metadata": {},
   "outputs": [],
   "source": [
    "# export dataset to csv\n",
    "\n",
    "#df_model_integrate_unknown.to_csv(\"df_model_integrate_unknown.csv\", index = False)"
   ]
  }
 ],
 "metadata": {
  "kernelspec": {
   "display_name": ".venv",
   "language": "python",
   "name": "python3"
  },
  "language_info": {
   "codemirror_mode": {
    "name": "ipython",
    "version": 3
   },
   "file_extension": ".py",
   "mimetype": "text/x-python",
   "name": "python",
   "nbconvert_exporter": "python",
   "pygments_lexer": "ipython3",
   "version": "3.12.9"
  }
 },
 "nbformat": 4,
 "nbformat_minor": 2
}
