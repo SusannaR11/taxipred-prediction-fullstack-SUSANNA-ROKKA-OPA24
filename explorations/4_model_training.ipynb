{
 "cells": [
  {
   "cell_type": "markdown",
   "metadata": {},
   "source": [
    "## 4. Model training \n",
    "- using RF with 2 different datasets where 'Unknown' value is handled in 2 different ways"
   ]
  },
  {
   "cell_type": "code",
   "execution_count": 1,
   "metadata": {},
   "outputs": [],
   "source": [
    "from sklearn.ensemble import RandomForestClassifier\n",
    "import pandas as pd\n",
    "import seaborn as sns"
   ]
  },
  {
   "cell_type": "code",
   "execution_count": 3,
   "metadata": {},
   "outputs": [
    {
     "name": "stdout",
     "output_type": "stream",
     "text": [
      "<class 'pandas.core.frame.DataFrame'>\n",
      "RangeIndex: 875 entries, 0 to 874\n",
      "Data columns (total 15 columns):\n",
      " #   Column                  Non-Null Count  Dtype  \n",
      "---  ------                  --------------  -----  \n",
      " 0   Trip_Distance_km        875 non-null    float64\n",
      " 1   Passenger_Count         875 non-null    float64\n",
      " 2   Base_Fare               875 non-null    float64\n",
      " 3   Per_Km_Rate             875 non-null    float64\n",
      " 4   Per_Minute_Rate         875 non-null    float64\n",
      " 5   Trip_Duration_Minutes   875 non-null    float64\n",
      " 6   Trip_Price              875 non-null    float64\n",
      " 7   IsBusinessHour          875 non-null    int64  \n",
      " 8   IsRain                  875 non-null    int64  \n",
      " 9   IsSnow                  875 non-null    int64  \n",
      " 10  IsWeatherUnknown        875 non-null    int64  \n",
      " 11  IsWeekend               875 non-null    int64  \n",
      " 12  IsDayUnknown            875 non-null    int64  \n",
      " 13  Traffic_Conditions_Num  875 non-null    int64  \n",
      " 14  Time_of_Day_Num         875 non-null    int64  \n",
      "dtypes: float64(7), int64(8)\n",
      "memory usage: 102.7 KB\n"
     ]
    }
   ],
   "source": [
    "df_model_integrate_unknown= pd.read_csv(\"df_model_integrate_unknown.csv\")\n",
    "df_model_integrate_unknown.info()"
   ]
  },
  {
   "cell_type": "code",
   "execution_count": 2,
   "metadata": {},
   "outputs": [
    {
     "name": "stdout",
     "output_type": "stream",
     "text": [
      "<class 'pandas.core.frame.DataFrame'>\n",
      "RangeIndex: 875 entries, 0 to 874\n",
      "Data columns (total 15 columns):\n",
      " #   Column                  Non-Null Count  Dtype  \n",
      "---  ------                  --------------  -----  \n",
      " 0   Trip_Distance_km        875 non-null    float64\n",
      " 1   Passenger_Count         875 non-null    float64\n",
      " 2   Base_Fare               875 non-null    float64\n",
      " 3   Per_Km_Rate             875 non-null    float64\n",
      " 4   Per_Minute_Rate         875 non-null    float64\n",
      " 5   Trip_Duration_Minutes   875 non-null    float64\n",
      " 6   Trip_Price              875 non-null    float64\n",
      " 7   IsBusinessHour          875 non-null    int64  \n",
      " 8   IsRain                  875 non-null    int64  \n",
      " 9   IsSnow                  875 non-null    int64  \n",
      " 10  IsWeatherUnknown        875 non-null    int64  \n",
      " 11  IsWeekend               875 non-null    int64  \n",
      " 12  IsDayUnknown            875 non-null    int64  \n",
      " 13  Traffic_Conditions_Num  875 non-null    int64  \n",
      " 14  Time_of_Day_Num         875 non-null    int64  \n",
      "dtypes: float64(7), int64(8)\n",
      "memory usage: 102.7 KB\n"
     ]
    }
   ],
   "source": [
    "df_model_keep_unknown = pd.read_csv(\"df_model_keep_unknown.csv\")\n",
    "df_model_keep_unknown.info()"
   ]
  }
 ],
 "metadata": {
  "kernelspec": {
   "display_name": ".venv",
   "language": "python",
   "name": "python3"
  },
  "language_info": {
   "codemirror_mode": {
    "name": "ipython",
    "version": 3
   },
   "file_extension": ".py",
   "mimetype": "text/x-python",
   "name": "python",
   "nbconvert_exporter": "python",
   "pygments_lexer": "ipython3",
   "version": "3.12.9"
  }
 },
 "nbformat": 4,
 "nbformat_minor": 2
}
